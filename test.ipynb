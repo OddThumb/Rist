{
 "cells": [
  {
   "cell_type": "markdown",
   "id": "d83b1acb",
   "metadata": {},
   "source": [
    "# `R` style `list` class in `Python`"
   ]
  },
  {
   "cell_type": "markdown",
   "id": "7d53623c",
   "metadata": {},
   "source": [
    "- You can `Rist` class to create a list-like object in Python.\n",
    "- It allows you to access elements by name, similar to R's named lists.\n",
    "- Of course, it also supports access by index.\n",
    "- Most easy way is to use attribute access.\n",
    "- You can contain any type of object, including other `Rist` objects."
   ]
  },
  {
   "cell_type": "code",
   "execution_count": 1,
   "id": "91d2a2b1",
   "metadata": {},
   "outputs": [],
   "source": [
    "import main"
   ]
  },
  {
   "cell_type": "markdown",
   "id": "aa58e0cb",
   "metadata": {},
   "source": [
    "### Basic Usage"
   ]
  },
  {
   "cell_type": "code",
   "execution_count": 2,
   "id": "6dce1132",
   "metadata": {},
   "outputs": [],
   "source": [
    "import numpy as np\n",
    "import pandas as pd\n",
    "\n",
    "x = main.Rist(\n",
    "    element0 = [i for i in range(50)],\n",
    "    element1 = \"hello\",\n",
    "    element2 = np.arange(20),\n",
    "    element3 = pd.DataFrame([1,2,3])\n",
    ")\n"
   ]
  },
  {
   "cell_type": "code",
   "execution_count": 3,
   "id": "671e78a9",
   "metadata": {},
   "outputs": [
    {
     "name": "stdout",
     "output_type": "stream",
     "text": [
      ".(Rist)\n",
      "    ├── .element0 (list)\n",
      "    │   [0, 1, 2, 3, 4, 5, 6, 7, 8, 9, 10, 11, 12, 13, 14, 15, 16, 17, 18, 19, 20, 21, 22, 23, 24, 25, 26, 27, 28, 29, 30, 31, 32, 33, 34, 35, 36, 37, 38, 39, 40, 41, 42, 43, 44, 45, 46, 47, 48, 49]\n",
      "    ├── .element1 (str)\n",
      "    │   'hello'\n",
      "    ├── .element2 (ndarray)\n",
      "    │   array([ 0,  1,  2,  3,  4,  5,  6,  7,  8,  9, 10, 11, 12, 13, 14, 15, 16,\n",
      "    │          17, 18, 19])\n",
      "    └── .element3 (DataFrame)\n",
      "           0\n",
      "        0  1\n",
      "        1  2\n",
      "        2  3\n"
     ]
    }
   ],
   "source": [
    "# Print the object\n",
    "print(x)"
   ]
  },
  {
   "cell_type": "code",
   "execution_count": 7,
   "id": "7c00e531",
   "metadata": {},
   "outputs": [
    {
     "name": "stdout",
     "output_type": "stream",
     "text": [
      "['element0', 'element1', 'element2', 'element3']\n",
      "[[0, 1, 2, 3, 4, 5, 6, 7, 8, 9, 10, 11, 12, 13, 14, 15, 16, 17, 18, 19, 20, 21, 22, 23, 24, 25, 26, 27, 28, 29, 30, 31, 32, 33, 34, 35, 36, 37, 38, 39, 40, 41, 42, 43, 44, 45, 46, 47, 48, 49], 'hello', array([ 0,  1,  2,  3,  4,  5,  6,  7,  8,  9, 10, 11, 12, 13, 14, 15, 16,\n",
      "       17, 18, 19]),    0\n",
      "0  1\n",
      "1  2\n",
      "2  3]\n"
     ]
    }
   ],
   "source": [
    "# names, values\n",
    "print(x.names)\n",
    "print(x.values)"
   ]
  },
  {
   "cell_type": "markdown",
   "id": "e4c8dc61",
   "metadata": {},
   "source": [
    "## Accessing Methods"
   ]
  },
  {
   "cell_type": "markdown",
   "id": "509bea7a",
   "metadata": {},
   "source": [
    "### Attribute"
   ]
  },
  {
   "cell_type": "code",
   "execution_count": 5,
   "id": "012d79a6",
   "metadata": {},
   "outputs": [
    {
     "name": "stdout",
     "output_type": "stream",
     "text": [
      "[0, 1, 2, 3, 4, 5, 6, 7, 8, 9, 10, 11, 12, 13, 14, 15, 16, 17, 18, 19, 20, 21, 22, 23, 24, 25, 26, 27, 28, 29, 30, 31, 32, 33, 34, 35, 36, 37, 38, 39, 40, 41, 42, 43, 44, 45, 46, 47, 48, 49]\n",
      "hello\n",
      "[ 0  1  2  3  4  5  6  7  8  9 10 11 12 13 14 15 16 17 18 19]\n",
      "   0\n",
      "0  1\n",
      "1  2\n",
      "2  3\n"
     ]
    }
   ],
   "source": [
    "# Access by attribute access\n",
    "print(x.element0)\n",
    "print(x.element1)\n",
    "print(x.element2)\n",
    "print(x.element3)"
   ]
  },
  {
   "cell_type": "markdown",
   "id": "8fdb010c",
   "metadata": {},
   "source": [
    "### Name"
   ]
  },
  {
   "cell_type": "code",
   "execution_count": 4,
   "id": "223c07d4",
   "metadata": {},
   "outputs": [
    {
     "name": "stdout",
     "output_type": "stream",
     "text": [
      "[0, 1, 2, 3, 4, 5, 6, 7, 8, 9, 10, 11, 12, 13, 14, 15, 16, 17, 18, 19, 20, 21, 22, 23, 24, 25, 26, 27, 28, 29, 30, 31, 32, 33, 34, 35, 36, 37, 38, 39, 40, 41, 42, 43, 44, 45, 46, 47, 48, 49]\n",
      "hello\n",
      "[ 0  1  2  3  4  5  6  7  8  9 10 11 12 13 14 15 16 17 18 19]\n",
      "   0\n",
      "0  1\n",
      "1  2\n",
      "2  3\n"
     ]
    }
   ],
   "source": [
    "# Access by name\n",
    "print(x['element0'])\n",
    "print(x['element1'])\n",
    "print(x['element2'])\n",
    "print(x['element3'])"
   ]
  },
  {
   "cell_type": "markdown",
   "id": "8a4a012e",
   "metadata": {},
   "source": [
    "### Index"
   ]
  },
  {
   "cell_type": "code",
   "execution_count": 6,
   "id": "9011d37c",
   "metadata": {},
   "outputs": [
    {
     "name": "stdout",
     "output_type": "stream",
     "text": [
      "[0, 1, 2, 3, 4, 5, 6, 7, 8, 9, 10, 11, 12, 13, 14, 15, 16, 17, 18, 19, 20, 21, 22, 23, 24, 25, 26, 27, 28, 29, 30, 31, 32, 33, 34, 35, 36, 37, 38, 39, 40, 41, 42, 43, 44, 45, 46, 47, 48, 49]\n",
      "hello\n",
      "[ 0  1  2  3  4  5  6  7  8  9 10 11 12 13 14 15 16 17 18 19]\n",
      "   0\n",
      "0  1\n",
      "1  2\n",
      "2  3\n"
     ]
    }
   ],
   "source": [
    "# Access by index\n",
    "print(x[0])\n",
    "print(x[1])\n",
    "print(x[2])\n",
    "print(x[3])"
   ]
  },
  {
   "cell_type": "markdown",
   "id": "f8c7ab37",
   "metadata": {},
   "source": [
    "## `Rist` in `Rist` in `Rist` ..."
   ]
  },
  {
   "cell_type": "code",
   "execution_count": 15,
   "id": "28759094",
   "metadata": {},
   "outputs": [],
   "source": [
    "Rist1 = main.Rist(\n",
    "    Rist2 = main.Rist(\n",
    "        Rist3 = main.Rist(\n",
    "            string = \"Hello World\",\n",
    "            df2    = pd.DataFrame({'Hello': [0,1,0], 'World': [1,0,1]})\n",
    "        ),\n",
    "        list2 = [2,3,5,7],\n",
    "        arr1  = np.arange(5)\n",
    "    ),\n",
    "    list1 = [1,3,5,7],\n",
    "    df1   = pd.DataFrame({'a': [1,2,3,4], 'b': [5,6,7,8]})\n",
    ")"
   ]
  },
  {
   "cell_type": "code",
   "execution_count": 16,
   "id": "c03ec2c3",
   "metadata": {},
   "outputs": [
    {
     "name": "stdout",
     "output_type": "stream",
     "text": [
      ".(Rist)\n",
      "    ├── .Rist2 (Rist)\n",
      "    │   ├── .Rist3 (Rist)\n",
      "    │   │   ├── .string (str)\n",
      "    │   │   │   'Hello World'\n",
      "    │   │   └── .df2 (DataFrame)\n",
      "    │   │          Hello  World\n",
      "    │   │       0      0      1\n",
      "    │   │       1      1      0\n",
      "    │   │       2      0      1\n",
      "    │   ├── .list2 (list)\n",
      "    │   │   [2, 3, 5, 7]\n",
      "    │   └── .arr1 (ndarray)\n",
      "    │       array([0, 1, 2, 3, 4])\n",
      "    ├── .list1 (list)\n",
      "    │   [1, 3, 5, 7]\n",
      "    └── .df1 (DataFrame)\n",
      "           a  b\n",
      "        0  1  5\n",
      "        1  2  6\n",
      "        2  3  7\n",
      "        3  4  8\n"
     ]
    }
   ],
   "source": [
    "print(Rist1)"
   ]
  }
 ],
 "metadata": {
  "kernelspec": {
   "display_name": "py312",
   "language": "python",
   "name": "python3"
  },
  "language_info": {
   "codemirror_mode": {
    "name": "ipython",
    "version": 3
   },
   "file_extension": ".py",
   "mimetype": "text/x-python",
   "name": "python",
   "nbconvert_exporter": "python",
   "pygments_lexer": "ipython3",
   "version": "3.12.11"
  }
 },
 "nbformat": 4,
 "nbformat_minor": 5
}
